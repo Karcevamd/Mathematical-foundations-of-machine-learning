{
 "cells": [
  {
   "cell_type": "markdown",
   "metadata": {
    "id": "mOWJ_IBy8HLi"
   },
   "source": [
    "Использование численных методов в задачах оптимизации\n",
    "\n",
    "### 1. Поиск минимума функции:\n",
    "\n",
    "\\begin{align}\n",
    "f(x)= \\frac {1}{2} [ (x_ {1})^ {2} + \\sum _ {i=1}^ {2} (x_ {i}-x_ {i+1})^ {2} + (x_ {3})^ {2} ]- x_ {1}\n",
    "\\end{align}\n",
    "\n",
    "\n",
    "##### Представление применимости алгоритмов BFGS и L-BFGS к данной оптимизационной задаче"
   ]
  },
  {
   "cell_type": "code",
   "execution_count": 25,
   "metadata": {
    "id": "kJcGtstR8HLq"
   },
   "outputs": [],
   "source": [
    "import numpy as np"
   ]
  },
  {
   "cell_type": "code",
   "execution_count": 4,
   "metadata": {
    "id": "M8ubjEfr8HLs"
   },
   "outputs": [],
   "source": [
    "def f(x, args_x_y):\n",
    "    return 1/2 * (x[0] ** 2 + (x[0] - x[1]) ** 2 + (x[1] - x[2]) ** 2 + x[2] ** 2) - x[0]"
   ]
  },
  {
   "cell_type": "markdown",
   "metadata": {},
   "source": [
    "Найдем градиент функции:\n",
    "\\begin{align} 2*x_1-1-x_2 \\\\  2*x_2-x_1-x_3\\\\  2*x_3-x_2\\\\ \\end{align}"
   ]
  },
  {
   "cell_type": "code",
   "execution_count": 5,
   "metadata": {
    "id": "XCJ61QDp8HLt"
   },
   "outputs": [],
   "source": [
    "def grad_f(x, f, args_x_y):\n",
    "    return np.array([-1 + x[0] + x[0] - x[1], -(x[0] - x[1]) + x[1] - x[2], x[2] - (x[1] - x[2])])"
   ]
  },
  {
   "cell_type": "markdown",
   "metadata": {},
   "source": [
    "Найдем Гессиан:\n",
    "\n",
    "\n",
    "\\begin{array}{cc} \n",
    " 2 & -1 &  0\\\\\n",
    "-1 &  2 & -1\\\\\n",
    " 0 & -1 &  2\\\\\n",
    "\\end{array}\n"
   ]
  },
  {
   "cell_type": "markdown",
   "metadata": {},
   "source": [
    "Найдем собственные значения Гессиана, если они будут положительны, то наша функция имеет хотя бы один локальный минимум."
   ]
  },
  {
   "cell_type": "code",
   "execution_count": 27,
   "metadata": {},
   "outputs": [
    {
     "name": "stdout",
     "output_type": "stream",
     "text": [
      "Собственные значения матрицы Hessian:\n",
      "[3.41421356 2.         0.58578644]\n"
     ]
    }
   ],
   "source": [
    "Hess = np.array([[2, -1, 0], [-1, 2, -1], [0, -1, 2]])\n",
    "eig = np.linalg.eig(Hess)\n",
    "print(\"Собственные значения матрицы Hessian:\")\n",
    "print(eig[0])"
   ]
  },
  {
   "cell_type": "markdown",
   "metadata": {},
   "source": [
    "#### Вывод"
   ]
  },
  {
   "cell_type": "markdown",
   "metadata": {
    "id": "-mhZvaRK8HLp"
   },
   "source": [
    "Данная функция без ограничений, дифференцируемая два раза, имеет хотя бы один локальный минимум, из этого следует, что она подходит для методов BFGS и L-BFGS."
   ]
  },
  {
   "cell_type": "markdown",
   "metadata": {
    "id": "0QrWMCVn8HLt"
   },
   "source": [
    "##### Реализация алгоритмов BFGS и L-BFGS"
   ]
  },
  {
   "cell_type": "code",
   "execution_count": 4,
   "metadata": {
    "id": "xQVnc1D_8HLu"
   },
   "outputs": [],
   "source": [
    "def df(x, f, args_x_y):\n",
    "    h = np.cbrt(np.finfo(float).eps)\n",
    "    d = len(x)\n",
    "    nabla = np.zeros(d)\n",
    "    for i in range(d):\n",
    "        x_for = np.copy(x)\n",
    "        x_back = np.copy(x)\n",
    "        x_for[i] += h\n",
    "        x_back[i] -= h\n",
    "        nabla[i] = (f(x_for, args_x_y) - f(x_back, args_x_y))/(2*h)\n",
    "    return nabla"
   ]
  },
  {
   "cell_type": "code",
   "execution_count": 5,
   "metadata": {
    "id": "ARNBPdnd8HLv"
   },
   "outputs": [],
   "source": [
    "def pinpoint(alpha_low, alpha_high, x_0, p, df, f, args_x_y, mu_1 = 0.01, mu_2=0.09):\n",
    "    k = 0\n",
    "    while True:\n",
    "        alpha_p = 0.5 * (alpha_high + alpha_low)\n",
    "        if f(x_0 + alpha_p * p, args_x_y) > f(x_0, args_x_y) + mu_1 * alpha_p * df(x_0, f, args_x_y).T @ p or f(x_0 + alpha_p * p, args_x_y) > f(x_0 + alpha_low * p, args_x_y):\n",
    "            alpha_high = alpha_p\n",
    "        else:\n",
    "            if np.abs(df(x_0 + alpha_p * p, f, args_x_y).T @ p) <= -mu_2*(df(x_0, f, args_x_y).T @ p):\n",
    "                return alpha_p\n",
    "            elif (df(x_0 + alpha_p * p, f, args_x_y).T @ p) * (alpha_high - alpha_low) >= 0:\n",
    "                alpha_high = alpha_low\n",
    "            alpha_low = alpha_p\n",
    "        k += k\n"
   ]
  },
  {
   "cell_type": "code",
   "execution_count": 6,
   "metadata": {
    "id": "0K-pT08i8HLx"
   },
   "outputs": [],
   "source": [
    "def linesearch(x_0, p, alpha, df, f, args_x_y, mu_1 = 0.01, mu_2=0.09, sigma=2.):\n",
    "    alpha_1 = 0.\n",
    "    alpha_2 = alpha\n",
    "    first = True\n",
    "    while True:\n",
    "        if (f(x_0 + alpha_2 * p, args_x_y) > f(x_0, args_x_y) + mu_1 * alpha_2 * df(x_0, f, args_x_y).T @ p) or (not first and f(x_0 + alpha_2 * p, args_x_y) > f(x_0, args_x_y)):\n",
    "            return pinpoint(alpha_1, alpha_2, x_0, p, df, f, args_x_y)\n",
    "        if np.abs(df(x_0 + alpha_2 * p, f, args_x_y).T @ p) <= - mu_2 * df(x_0, f, args_x_y).T @ p:\n",
    "            return alpha_2\n",
    "        elif df(x_0 + alpha_2 * p, f, args_x_y).T @ p >= 0:\n",
    "            return pinpoint(alpha_2, alpha_1, x_0, p, df, f, args_x_y)\n",
    "        else:\n",
    "            alpha_1, alpha_2 = alpha_2, sigma * alpha_2\n",
    "        first = False"
   ]
  },
  {
   "cell_type": "code",
   "execution_count": 7,
   "metadata": {
    "id": "enK49OeS8HLy"
   },
   "outputs": [],
   "source": [
    "def BFGS(x_0, f, df, Hess, args_x_y=None, r = 1e-6):\n",
    "    k = 0\n",
    "    alpha = 1.\n",
    "    N = len(x_0)\n",
    "\n",
    "    while np.linalg.norm(df(x_0, f, args_x_y), np.inf) > r:\n",
    "        if k == 0:\n",
    "            V = Hess(df, f, x_0, args_x_y)\n",
    "            x_1 = np.ones(N)\n",
    "        else:\n",
    "            s = x_1 - x_0\n",
    "            y = df(x_1, f, args_x_y) - df(x_0, f, args_x_y)\n",
    "            sigma = 1. / (s @ y)\n",
    "            V = (np.eye(N) - sigma * np.outer(s, y)) @ V @ (np.eye(N) - sigma * np.outer(y, s)) + sigma * np.outer(s, s)\n",
    "        p = - V @ df(x_0, f, args_x_y)\n",
    "        alpha = linesearch(x_0, p, alpha, df, f, args_x_y)\n",
    "        x_0, x_1 = x_1, x_0 + alpha * p\n",
    "\n",
    "        k += 1\n",
    "    return x_0, f(x_0, args_x_y), k"
   ]
  },
  {
   "cell_type": "code",
   "execution_count": 8,
   "metadata": {
    "id": "X_XPZ8L28HLz"
   },
   "outputs": [],
   "source": [
    "def compute_search_direction(df_x, s, y, sigma):\n",
    "    alpha, beta = np.ones(len(s)), np.ones(len(s))\n",
    "    d = df_x\n",
    "    for i in range(len(s)-1, -1, -1):\n",
    "        alpha[i] = sigma[i] * (s[i].T @ d)\n",
    "        d = d - alpha[i] * y[i]\n",
    "\n",
    "    V = (s[-1] @ y[-1])/(y[-1] @ y[-1])\n",
    "    d = V * d\n",
    "\n",
    "    for i in range(len(s)):\n",
    "        beta[i] = sigma[i] * (y[i].T @ d)\n",
    "        d = d + (alpha[i] - beta[i]) * s[i]\n",
    "    return -d"
   ]
  },
  {
   "cell_type": "code",
   "execution_count": 9,
   "metadata": {
    "id": "Cx5LZ6LV8HLz"
   },
   "outputs": [],
   "source": [
    "def hess_eye(df, f, x_0, args_x_y):\n",
    "    return 1. / np.linalg.norm(df(x_0, f, args_x_y), 1) * np.eye(len(x_0))\n"
   ]
  },
  {
   "cell_type": "code",
   "execution_count": 10,
   "metadata": {
    "id": "2g2sEILb8HL0"
   },
   "outputs": [],
   "source": [
    "def L_BFGS(x_0, f, df,Hess, args_x_y=None, r = 1e-6):\n",
    "    k = 0\n",
    "    alpha = 1.\n",
    "    N = len(x_0)\n",
    "    s, y, sigma = [], [], []\n",
    "    while np.linalg.norm(df(x_0, f, args_x_y), np.inf) > r:\n",
    "        if k == 0:\n",
    "            V = Hess(df, f, x_0, args_x_y)\n",
    "            x_1 = np.ones(N)\n",
    "            p = - V @ df(x_0, f, args_x_y)\n",
    "            alpha = linesearch(x_0, p, alpha, df, f, args_x_y)\n",
    "            x_0, x_1 = x_1, x_0 + alpha * p\n",
    "        else:\n",
    "            if len(s) > 6:\n",
    "                s.pop(0)\n",
    "                y.pop(0)\n",
    "                sigma.pop(0)\n",
    "            s.append(x_1 - x_0)\n",
    "            y.append(df(x_1, f, args_x_y) - df(x_0, f, args_x_y))\n",
    "            sigma.append(1. / (s[-1] @ y[-1]))\n",
    "            df_x = df(x_0, f, args_x_y)\n",
    "            p = compute_search_direction(df_x, s, y, sigma)\n",
    "            alpha = linesearch(x_0, p, alpha, df, f, args_x_y)\n",
    "            x_0, x_1 = x_1, x_0 + alpha * p\n",
    "\n",
    "        k += 1\n",
    "\n",
    "\n",
    "    return x_0, f(x_0, args_x_y), k"
   ]
  },
  {
   "cell_type": "markdown",
   "metadata": {
    "id": "Ji-X-yk-8HL0"
   },
   "source": [
    "##### Приближение матрицы Гессе"
   ]
  },
  {
   "cell_type": "code",
   "execution_count": 11,
   "metadata": {
    "id": "QoVmJkQz8HL1"
   },
   "outputs": [],
   "source": [
    "def hessian_analitic(df, f, x, args_x_y):\n",
    "    h = np.cbrt(np.finfo(float).eps)\n",
    "    d = len(x)\n",
    "    hessian = np.zeros((d, d))\n",
    "\n",
    "    for i in range(d):\n",
    "        xi = np.copy(x)\n",
    "        xi[i] += h\n",
    "        for j in range(d):\n",
    "            x_for = np.copy(x)\n",
    "            x_for[i] += h\n",
    "            x_for[j] += h\n",
    "            x_back = np.copy(x)\n",
    "            x_back[j] += h\n",
    "            hessian[i][j] = (f(x_for, args_x_y) - f(xi, args_x_y) - f(x_back, args_x_y) + f(x, args_x_y)) / (h ** 2)\n",
    "    return hessian"
   ]
  },
  {
   "cell_type": "markdown",
   "metadata": {
    "id": "RvfTBDl18HL1"
   },
   "source": [
    "##### Сравнение алгоритмов BFGS и L-BFGS"
   ]
  },
  {
   "cell_type": "code",
   "execution_count": 12,
   "metadata": {
    "id": "j9A95Eyt8HL1"
   },
   "outputs": [],
   "source": [
    "import time\n",
    "def analize_time(metod):\n",
    "    for i in [hess_eye, hessian_analitic]:\n",
    "        print(i.__name__)\n",
    "        t1 = time.time()\n",
    "        x_0, f_x_0, k0 = metod(np.array([1.,1.,1.]), f, grad_f, i, r = 1e-6)\n",
    "        t2 = time.time()\n",
    "        print(f'Время выполнения {metod.__name__}, с градиентом, вычесленным аналитически: {t2-t1}', f'Минимум в точке: {x_0}', f'Значение минимума: {f_x_0}', f'Количество итераций: {k0}', sep='\\n', end= '\\n\\n')\n",
    "\n",
    "        t3 = time.time()\n",
    "        x_1, f_x_1, k1 = metod(np.array([1.,1.,1.]), f, df, i, r = 1e-6)\n",
    "        t4 = time.time()\n",
    "\n",
    "        print(f'Время выполнения {metod.__name__}, с градиентом, вычесленным численно: {t4-t3}', f'Минимум в точке: {x_1}', f'Значение минимума: {f_x_1}', f'Количество итераций: {k1}', sep='\\n', end= '\\n\\n')"
   ]
  },
  {
   "cell_type": "code",
   "execution_count": 13,
   "metadata": {
    "colab": {
     "base_uri": "https://localhost:8080/"
    },
    "id": "ZSb5vNLn8HL2",
    "outputId": "cdc84d6b-953f-45b5-b80f-503e319ffb49"
   },
   "outputs": [
    {
     "name": "stdout",
     "output_type": "stream",
     "text": [
      "hess_eye\n",
      "Время выполнения BFGS, с градиентом, вычесленным аналитически: 0.0072269439697265625\n",
      "Минимум в точке: [0.74999987 0.50000008 0.25000016]\n",
      "Значение минимума: -0.3749999999999544\n",
      "Количество итераций: 10\n",
      "\n",
      "Время выполнения BFGS, с градиентом, вычесленным численно: 0.006272077560424805\n",
      "Минимум в точке: [0.74999987 0.50000008 0.25000016]\n",
      "Значение минимума: -0.3749999999999545\n",
      "Количество итераций: 10\n",
      "\n",
      "hessian_analitic\n",
      "Время выполнения BFGS, с градиентом, вычесленным аналитически: 0.0034265518188476562\n",
      "Минимум в точке: [0.74999978 0.50000015 0.25000026]\n",
      "Значение минимума: -0.37499999999986766\n",
      "Количество итераций: 14\n",
      "\n",
      "Время выполнения BFGS, с градиентом, вычесленным численно: 0.0066585540771484375\n",
      "Минимум в точке: [0.74999978 0.50000015 0.25000026]\n",
      "Значение минимума: -0.3749999999998676\n",
      "Количество итераций: 14\n",
      "\n"
     ]
    }
   ],
   "source": [
    "analize_time(BFGS)"
   ]
  },
  {
   "cell_type": "code",
   "execution_count": 14,
   "metadata": {
    "colab": {
     "base_uri": "https://localhost:8080/"
    },
    "id": "-T5zQYMm8HL3",
    "outputId": "fea845f7-9f0c-4517-9acc-4f15a90d50a9"
   },
   "outputs": [
    {
     "name": "stdout",
     "output_type": "stream",
     "text": [
      "hess_eye\n",
      "Время выполнения L_BFGS, с градиентом, вычесленным аналитически: 0.002423524856567383\n",
      "Минимум в точке: [0.75000031 0.50000006 0.25000003]\n",
      "Значение минимума: -0.3749999999999225\n",
      "Количество итераций: 10\n",
      "\n",
      "Время выполнения L_BFGS, с градиентом, вычесленным численно: 0.01538705825805664\n",
      "Минимум в точке: [0.75000031 0.50000006 0.25000003]\n",
      "Значение минимума: -0.3749999999999225\n",
      "Количество итераций: 10\n",
      "\n",
      "hessian_analitic\n",
      "Время выполнения L_BFGS, с градиентом, вычесленным аналитически: 0.002747058868408203\n",
      "Минимум в точке: [0.75000061 0.50000027 0.25000017]\n",
      "Значение минимума: -0.37499999999973993\n",
      "Количество итераций: 10\n",
      "\n",
      "Время выполнения L_BFGS, с градиентом, вычесленным численно: 0.00700831413269043\n",
      "Минимум в точке: [0.75000061 0.50000027 0.25000017]\n",
      "Значение минимума: -0.37499999999974\n",
      "Количество итераций: 10\n",
      "\n"
     ]
    }
   ],
   "source": [
    "analize_time(L_BFGS)"
   ]
  },
  {
   "cell_type": "markdown",
   "metadata": {},
   "source": [
    "По времени работы и итерациям видно, что метод L-BFGS быстрее справляется с задачей мнимизации данной функции, при чем когда градиент вычеслен аналитически. Также не сложно догадаться, что он не затрачивает память на хранение матрицы Гессе.\n",
    "\n",
    "Самое наименьшее время работы BFGS было при задании Гесссиана методом конечных разностей."
   ]
  },
  {
   "cell_type": "markdown",
   "metadata": {},
   "source": [
    "Так вычислительная сложность BFGS составляет O(n^2), в то время как LBFGS - O(n)"
   ]
  },
  {
   "cell_type": "markdown",
   "metadata": {
    "id": "5ZxYhJMQ8HL4"
   },
   "source": [
    "### 2. Практическое применение: использование метода оптимизации L-BFGS для решения задачи логистической регрессии"
   ]
  },
  {
   "cell_type": "markdown",
   "metadata": {
    "id": "ui3yAi468HL4"
   },
   "source": [
    "##### Представление набора данных"
   ]
  },
  {
   "cell_type": "code",
   "execution_count": 6,
   "metadata": {
    "id": "3dIaq-xu8HL4"
   },
   "outputs": [],
   "source": [
    "from sklearn.model_selection import cross_val_score, train_test_split\n",
    "import os\n",
    "import pandas as pd"
   ]
  },
  {
   "cell_type": "markdown",
   "metadata": {},
   "source": [
    "Данный датасет содержит цены и другие атрибуты почти по 54 000 бриллиантам.\n",
    "\n",
    "**Описание переменных:\n",
    "\n",
    "price -- цена в US dollars\n",
    "\n",
    "carat -- вес бриллианта\n",
    "\n",
    "cut -- качество среза (Fair, Good, Very Good, Premium, Ideal)\n",
    "\n",
    "color diamond -- цвет, от J (худший) до D (лучший)\n",
    "\n",
    "clarity -- мера чистоты бриллианта (I1 (худший), SI2, SI1, VS2, VS1, VVS2, VVS1, IF (лучший))\n",
    "\n",
    "x — длина в мм\n",
    "\n",
    "y — ширина в мм\n",
    "\n",
    "z — глубина в мм\n",
    "\n",
    "depth — общая глубина в процентах\n",
    "\n",
    "table — ширина вершины бриллианта относительно самой широкой точки"
   ]
  },
  {
   "cell_type": "code",
   "execution_count": 7,
   "metadata": {
    "colab": {
     "base_uri": "https://localhost:8080/",
     "height": 423
    },
    "id": "pra1fPZ88HL5",
    "outputId": "c310c19c-79a7-4dc2-b56e-f70471283fc2"
   },
   "outputs": [
    {
     "data": {
      "text/html": [
       "<div>\n",
       "<style scoped>\n",
       "    .dataframe tbody tr th:only-of-type {\n",
       "        vertical-align: middle;\n",
       "    }\n",
       "\n",
       "    .dataframe tbody tr th {\n",
       "        vertical-align: top;\n",
       "    }\n",
       "\n",
       "    .dataframe thead th {\n",
       "        text-align: right;\n",
       "    }\n",
       "</style>\n",
       "<table border=\"1\" class=\"dataframe\">\n",
       "  <thead>\n",
       "    <tr style=\"text-align: right;\">\n",
       "      <th></th>\n",
       "      <th>carat</th>\n",
       "      <th>cut</th>\n",
       "      <th>color</th>\n",
       "      <th>clarity</th>\n",
       "      <th>depth</th>\n",
       "      <th>table</th>\n",
       "      <th>price</th>\n",
       "      <th>x</th>\n",
       "      <th>y</th>\n",
       "      <th>z</th>\n",
       "    </tr>\n",
       "  </thead>\n",
       "  <tbody>\n",
       "    <tr>\n",
       "      <th>0</th>\n",
       "      <td>0.23</td>\n",
       "      <td>Ideal</td>\n",
       "      <td>E</td>\n",
       "      <td>SI2</td>\n",
       "      <td>61.5</td>\n",
       "      <td>55.0</td>\n",
       "      <td>326</td>\n",
       "      <td>3.95</td>\n",
       "      <td>3.98</td>\n",
       "      <td>2.43</td>\n",
       "    </tr>\n",
       "    <tr>\n",
       "      <th>1</th>\n",
       "      <td>0.21</td>\n",
       "      <td>Premium</td>\n",
       "      <td>NaN</td>\n",
       "      <td>SI1</td>\n",
       "      <td>59.8</td>\n",
       "      <td>61.0</td>\n",
       "      <td>326</td>\n",
       "      <td>3.89</td>\n",
       "      <td>3.84</td>\n",
       "      <td>2.31</td>\n",
       "    </tr>\n",
       "    <tr>\n",
       "      <th>2</th>\n",
       "      <td>0.23</td>\n",
       "      <td>Good</td>\n",
       "      <td>E</td>\n",
       "      <td>VS1</td>\n",
       "      <td>56.9</td>\n",
       "      <td>65.0</td>\n",
       "      <td>327</td>\n",
       "      <td>4.05</td>\n",
       "      <td>4.07</td>\n",
       "      <td>2.31</td>\n",
       "    </tr>\n",
       "    <tr>\n",
       "      <th>3</th>\n",
       "      <td>0.29</td>\n",
       "      <td>Premium</td>\n",
       "      <td>I</td>\n",
       "      <td>VS2</td>\n",
       "      <td>62.4</td>\n",
       "      <td>58.0</td>\n",
       "      <td>334</td>\n",
       "      <td>4.20</td>\n",
       "      <td>4.23</td>\n",
       "      <td>2.63</td>\n",
       "    </tr>\n",
       "    <tr>\n",
       "      <th>4</th>\n",
       "      <td>0.31</td>\n",
       "      <td>Good</td>\n",
       "      <td>J</td>\n",
       "      <td>SI2</td>\n",
       "      <td>63.3</td>\n",
       "      <td>58.0</td>\n",
       "      <td>335</td>\n",
       "      <td>4.34</td>\n",
       "      <td>4.35</td>\n",
       "      <td>2.75</td>\n",
       "    </tr>\n",
       "    <tr>\n",
       "      <th>...</th>\n",
       "      <td>...</td>\n",
       "      <td>...</td>\n",
       "      <td>...</td>\n",
       "      <td>...</td>\n",
       "      <td>...</td>\n",
       "      <td>...</td>\n",
       "      <td>...</td>\n",
       "      <td>...</td>\n",
       "      <td>...</td>\n",
       "      <td>...</td>\n",
       "    </tr>\n",
       "    <tr>\n",
       "      <th>53935</th>\n",
       "      <td>0.72</td>\n",
       "      <td>Ideal</td>\n",
       "      <td>D</td>\n",
       "      <td>SI1</td>\n",
       "      <td>60.8</td>\n",
       "      <td>57.0</td>\n",
       "      <td>2757</td>\n",
       "      <td>5.75</td>\n",
       "      <td>5.76</td>\n",
       "      <td>3.50</td>\n",
       "    </tr>\n",
       "    <tr>\n",
       "      <th>53936</th>\n",
       "      <td>0.72</td>\n",
       "      <td>Good</td>\n",
       "      <td>D</td>\n",
       "      <td>SI1</td>\n",
       "      <td>63.1</td>\n",
       "      <td>55.0</td>\n",
       "      <td>2757</td>\n",
       "      <td>5.69</td>\n",
       "      <td>5.75</td>\n",
       "      <td>3.61</td>\n",
       "    </tr>\n",
       "    <tr>\n",
       "      <th>53937</th>\n",
       "      <td>0.70</td>\n",
       "      <td>Very Good</td>\n",
       "      <td>D</td>\n",
       "      <td>SI1</td>\n",
       "      <td>62.8</td>\n",
       "      <td>60.0</td>\n",
       "      <td>2757</td>\n",
       "      <td>5.66</td>\n",
       "      <td>5.68</td>\n",
       "      <td>3.56</td>\n",
       "    </tr>\n",
       "    <tr>\n",
       "      <th>53938</th>\n",
       "      <td>0.86</td>\n",
       "      <td>Premium</td>\n",
       "      <td>H</td>\n",
       "      <td>SI2</td>\n",
       "      <td>61.0</td>\n",
       "      <td>58.0</td>\n",
       "      <td>2757</td>\n",
       "      <td>6.15</td>\n",
       "      <td>6.12</td>\n",
       "      <td>3.74</td>\n",
       "    </tr>\n",
       "    <tr>\n",
       "      <th>53939</th>\n",
       "      <td>0.75</td>\n",
       "      <td>Ideal</td>\n",
       "      <td>D</td>\n",
       "      <td>SI2</td>\n",
       "      <td>62.2</td>\n",
       "      <td>55.0</td>\n",
       "      <td>2757</td>\n",
       "      <td>5.83</td>\n",
       "      <td>5.87</td>\n",
       "      <td>3.64</td>\n",
       "    </tr>\n",
       "  </tbody>\n",
       "</table>\n",
       "<p>53940 rows × 10 columns</p>\n",
       "</div>"
      ],
      "text/plain": [
       "       carat        cut color clarity  depth  table  price     x     y     z\n",
       "0       0.23      Ideal     E     SI2   61.5   55.0    326  3.95  3.98  2.43\n",
       "1       0.21    Premium   NaN     SI1   59.8   61.0    326  3.89  3.84  2.31\n",
       "2       0.23       Good     E     VS1   56.9   65.0    327  4.05  4.07  2.31\n",
       "3       0.29    Premium     I     VS2   62.4   58.0    334  4.20  4.23  2.63\n",
       "4       0.31       Good     J     SI2   63.3   58.0    335  4.34  4.35  2.75\n",
       "...      ...        ...   ...     ...    ...    ...    ...   ...   ...   ...\n",
       "53935   0.72      Ideal     D     SI1   60.8   57.0   2757  5.75  5.76  3.50\n",
       "53936   0.72       Good     D     SI1   63.1   55.0   2757  5.69  5.75  3.61\n",
       "53937   0.70  Very Good     D     SI1   62.8   60.0   2757  5.66  5.68  3.56\n",
       "53938   0.86    Premium     H     SI2   61.0   58.0   2757  6.15  6.12  3.74\n",
       "53939   0.75      Ideal     D     SI2   62.2   55.0   2757  5.83  5.87  3.64\n",
       "\n",
       "[53940 rows x 10 columns]"
      ]
     },
     "execution_count": 7,
     "metadata": {},
     "output_type": "execute_result"
    }
   ],
   "source": [
    "data = pd.read_csv(os.path.join('diamonds_moded.xls'), sep=';')\n",
    "data"
   ]
  },
  {
   "cell_type": "code",
   "execution_count": 8,
   "metadata": {
    "id": "CwQov9Y68HL5"
   },
   "outputs": [],
   "source": [
    "from sklearn import preprocessing"
   ]
  },
  {
   "cell_type": "code",
   "execution_count": 9,
   "metadata": {
    "id": "dBOFaKcp8HL5"
   },
   "outputs": [],
   "source": [
    "data['color'].fillna(data['color'].mode()[0], inplace=True)\n",
    "cat_columns = [cname for cname in data.columns if data[cname].dtype == 'object']\n",
    "encoder = preprocessing.LabelEncoder()\n",
    "for col in cat_columns:\n",
    "    data[col] = encoder.fit_transform(data[col])\n",
    "X = data.drop('price', axis=1)\n",
    "y = data['price']"
   ]
  },
  {
   "cell_type": "code",
   "execution_count": 10,
   "metadata": {
    "id": "dYIpLtCM8HL5"
   },
   "outputs": [],
   "source": [
    "y = pd.Series(1 if i > 1000 else 0 for i in y)\n",
    "X_train, X_valid, y_train, y_valid = train_test_split(X, y, test_size=0.2, random_state=1)"
   ]
  },
  {
   "cell_type": "markdown",
   "metadata": {
    "id": "JfroUavY8HL6"
   },
   "source": [
    "##### Реализация логистической регрессии"
   ]
  },
  {
   "cell_type": "code",
   "execution_count": 24,
   "metadata": {
    "id": "WK7Qqkee8HL6"
   },
   "outputs": [],
   "source": [
    "class LogReg():\n",
    "\n",
    "    def __init__(self):\n",
    "        self.thetas = None\n",
    "        self.loss_history = []\n",
    "\n",
    "    def fit_BFGS(self, x, y):\n",
    "        x, y = x.copy(), y.copy()\n",
    "        self.add_ones(x)\n",
    "        thetas, n = np.zeros(x.shape[1]), x.shape[0]\n",
    "        self.thetas = BFGS( thetas, self.objective, df=self.gradient, Hess=hess_eye, args_x_y=(x, y))[0]\n",
    "\n",
    "    def fit_L_BFGS(self, x, y):\n",
    "        x, y = x.copy(), y.copy()\n",
    "        self.add_ones(x)\n",
    "        thetas, n = np.zeros(x.shape[1]), x.shape[0]\n",
    "        self.thetas = L_BFGS( thetas, self.objective, df=self.gradient, Hess=hess_eye, args_x_y=(x, y))[0]\n",
    "\n",
    "    def predict(self, x):\n",
    "        x = x.copy()\n",
    "        self.add_ones(x)\n",
    "        z = np.dot(x, self.thetas)\n",
    "        probs = np.array([self.stable_sigmoid(value) for value in z])\n",
    "        return np.where(probs >= 0.5, 1, 0)\n",
    "\n",
    "    def add_ones(self, x):\n",
    "        x.insert(0, 'x0', np.ones(x.shape[0]))\n",
    "\n",
    "    def h(self, thetas, x):\n",
    "        z = np.dot(x, thetas)\n",
    "        return np.array([self.stable_sigmoid(value) for value in z])\n",
    "\n",
    "    def objective(self, thetas, args):\n",
    "        (x, y) = args\n",
    "        y_pred = self.h(thetas, x)\n",
    "        y_one_loss = y * np.log(y_pred + 1e-9)\n",
    "        y_zero_loss = (1 - y) * np.log(1 - y_pred + 1e-9)\n",
    "        return -np.mean(y_zero_loss + y_one_loss)\n",
    "\n",
    "    def gradient(self, thetas, f, args):\n",
    "        (x, y) = args\n",
    "        y_pred = self.h(thetas, x)\n",
    "        return np.dot(x.T, (y_pred - y)) / x.shape[0]\n",
    "\n",
    "    def stable_sigmoid(self, z):\n",
    "        if z >= 0:\n",
    "            return 1 / (1 + np.exp(-z))\n",
    "        else:\n",
    "            return np.exp(z) / (np.exp(z) + 1)\n"
   ]
  },
  {
   "cell_type": "markdown",
   "metadata": {
    "id": "qq1vK6-a8HL6"
   },
   "source": [
    "##### Сравнение характеристики работы алгоритмов"
   ]
  },
  {
   "cell_type": "code",
   "execution_count": 21,
   "metadata": {
    "id": "J7lSIKct8HL7"
   },
   "outputs": [],
   "source": [
    "import warnings\n",
    "warnings.filterwarnings(\"ignore\")"
   ]
  },
  {
   "cell_type": "code",
   "execution_count": 26,
   "metadata": {
    "colab": {
     "base_uri": "https://localhost:8080/"
    },
    "id": "ECNmExUM8HL8",
    "outputId": "81b2a8ba-4ca6-4bb7-c4de-7b7f774c0b74"
   },
   "outputs": [
    {
     "name": "stdout",
     "output_type": "stream",
     "text": [
      "0.2463207244873047\n"
     ]
    }
   ],
   "source": [
    "model = LogReg()\n",
    "t1 = time.time()\n",
    "model.fit_BFGS(X_train, y_train)\n",
    "t2 = time.time()\n",
    "print(t2-t1)\n",
    "y_pred_BFGS = model.predict(X_valid)\n"
   ]
  },
  {
   "cell_type": "code",
   "execution_count": 31,
   "metadata": {
    "colab": {
     "base_uri": "https://localhost:8080/"
    },
    "id": "DNCK9ZrLD0_5",
    "outputId": "019310f9-6f46-4cfd-d025-02754786bc69"
   },
   "outputs": [
    {
     "name": "stdout",
     "output_type": "stream",
     "text": [
      "Accuracy: 0.7048419190802565\n"
     ]
    }
   ],
   "source": [
    "from sklearn.metrics import accuracy_score\n",
    "\n",
    "accuracy = accuracy_score(y_valid, y_pred_BFGS)\n",
    "print(f'Accuracy: {accuracy}')"
   ]
  },
  {
   "cell_type": "code",
   "execution_count": 29,
   "metadata": {
    "colab": {
     "base_uri": "https://localhost:8080/"
    },
    "id": "n-NKPYmOBAT3",
    "outputId": "509ac33f-8324-478c-c9ba-a75b0fd96030"
   },
   "outputs": [
    {
     "name": "stdout",
     "output_type": "stream",
     "text": [
      "0.3538699150085449\n"
     ]
    }
   ],
   "source": [
    "model = LogReg()\n",
    "t1 = time.time()\n",
    "model.fit_L_BFGS(X_train, y_train)\n",
    "t2 = time.time()\n",
    "print(t2-t1)\n",
    "y_pred_L_BFGS = model.predict(X_valid)"
   ]
  },
  {
   "cell_type": "code",
   "execution_count": 33,
   "metadata": {
    "colab": {
     "base_uri": "https://localhost:8080/"
    },
    "id": "vy7dgKqREAf7",
    "outputId": "768041f1-0918-4e80-a626-acb08f4b490f"
   },
   "outputs": [
    {
     "name": "stdout",
     "output_type": "stream",
     "text": [
      "Accuracy: 0.7048419190802565\n"
     ]
    }
   ],
   "source": [
    "accuracy = accuracy_score(y_valid, y_pred_L_BFGS)\n",
    "print(f'Accuracy: {accuracy}')"
   ]
  },
  {
   "cell_type": "markdown",
   "metadata": {},
   "source": [
    "Оба метода оптимизации показывают хорошие результаты и предсказывают более 70% данных, но при этом логистическая регрессия с методом BFGS обучается быстрее."
   ]
  },
  {
   "cell_type": "markdown",
   "metadata": {},
   "source": [
    "Сравнение с Логистической регрессией из sklearn"
   ]
  },
  {
   "cell_type": "code",
   "execution_count": 11,
   "metadata": {},
   "outputs": [],
   "source": [
    "from sklearn.linear_model import LogisticRegression"
   ]
  },
  {
   "cell_type": "code",
   "execution_count": 24,
   "metadata": {
    "id": "iJkA6m6GEJGp"
   },
   "outputs": [
    {
     "name": "stdout",
     "output_type": "stream",
     "text": [
      "Accuracy:0.9526325546903968\n"
     ]
    }
   ],
   "source": [
    "model = LogisticRegression().fit(X_train, y_train)\n",
    "\n",
    "print(f'Accuracy:{accuracy_score(y_valid, model.predict(X_valid))}')"
   ]
  }
 ],
 "metadata": {
  "colab": {
   "provenance": []
  },
  "kernelspec": {
   "display_name": "Python 3 (ipykernel)",
   "language": "python",
   "name": "python3"
  },
  "language_info": {
   "codemirror_mode": {
    "name": "ipython",
    "version": 3
   },
   "file_extension": ".py",
   "mimetype": "text/x-python",
   "name": "python",
   "nbconvert_exporter": "python",
   "pygments_lexer": "ipython3",
   "version": "3.10.9"
  }
 },
 "nbformat": 4,
 "nbformat_minor": 4
}
